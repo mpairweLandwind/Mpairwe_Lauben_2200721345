{
 "cells": [
  {
   "cell_type": "code",
   "execution_count": null,
   "metadata": {},
   "outputs": [],
   "source": [
    "## feature Engineering\n",
    "# select the top 10 features based on the chi-squared\n",
    "import numpy as np\n",
    "import pandas as pd\n",
    "from sklearn.model_selection import train_test_split, StratifiedKFold, cross_val_predict\n",
    "from sklearn.feature_selection import SelectKBest\n",
    "from sklearn.feature_selection import chi2\n",
    "from matplotlib import pyplot as plt\n",
    "from sklearn.ensemble import GradientBoostingClassifier\n",
    "from sklearn.metrics import accuracy_score, precision_score, recall_score, f1_score, roc_auc_score, roc_curve\n",
    "from sklearn.naive_bayes import GaussianNB\n",
    "from sklearn.tree import DecisionTreeClassifier\n",
    "from sklearn.svm import SVC\n",
    "from sklearn.model_selection import cross_val_score\n",
    "from sklearn.linear_model import LogisticRegression\n",
    "\n",
    "data = pd.read_csv('heart.csv')\n",
    "X = data.drop('target', axis=1)\n",
    "y = data['target']\n",
    "\n",
    "selector = SelectKBest(chi2, k=10)\n",
    "X_new = selector.fit_transform(X, y)\n",
    "selected_features = X.columns[selector.get_support()]\n",
    "\n",
    "print('selected features', selected_features)\n",
    "\n",
    "\n",
    "\n",
    "\n",
    "\n",
    "\n",
    "\n",
    "\n"
   ]
  },
  {
   "cell_type": "code",
   "execution_count": null,
   "metadata": {},
   "outputs": [],
   "source": [
    "# Data splitting\n",
    "from sklearn.model_selection import train_test_split\n",
    "X_train, X_test, y_train, y_test = train_test_split(X, y, test_size=0.2, random_state=42)"
   ]
  },
  {
   "cell_type": "code",
   "execution_count": null,
   "metadata": {},
   "outputs": [],
   "source": [
    "\n",
    "# cross validation test\n",
    "\n",
    "model = LogisticRegression()\n",
    "scores = cross_val_score(model, X, y, cv=5)\n",
    "print('Cross-validation scores: ', scores)\n",
    "print('Average cross-validation score: ', scores.mean())"
   ]
  },
  {
   "cell_type": "code",
   "execution_count": null,
   "metadata": {},
   "outputs": [],
   "source": [
    "# cross validation using randomforest classifiier\n",
    "from sklearn.ensemble import RandomForestClassifier\n",
    "model = RandomForestClassifier()\n",
    "cv = StratifiedKFold(n_splits=5, shuffle=True, random_state=42)\n",
    "scores = cross_val_score(model, X, y, cv=cv, scoring='accuracy')\n",
    "print('Cross-validation scores: ', scores)\n",
    "print('cross validation accuracy/Average cross-validation score: ', scores.mean())"
   ]
  },
  {
   "cell_type": "code",
   "execution_count": null,
   "metadata": {},
   "outputs": [],
   "source": [
    "# cross validation using knn classifier \n",
    "from sklearn.neighbors import KNeighborsClassifier\n",
    "model = KNeighborsClassifier()\n",
    "scores = cross_val_score(model, X, y, cv=5)\n",
    "print('Cross-validation scores: ', scores)\n",
    "print('Average cross-validation score: ', scores.mean())"
   ]
  },
  {
   "cell_type": "code",
   "execution_count": null,
   "metadata": {},
   "outputs": [],
   "source": [
    "# Training and Evaluation of the model using randomforestclassifier\n",
    "from sklearn.ensemble import RandomForestClassifier\n",
    "model = RandomForestClassifier()\n",
    "model.fit(X_train, y_train)\n",
    "y_pred = model.predict(X_test)\n",
    "from sklearn.metrics import accuracy_score\n",
    "accuracy = accuracy_score(y_test, y_pred)\n",
    "print('Accuracy score: ', accuracy)"
   ]
  },
  {
   "cell_type": "code",
   "execution_count": null,
   "metadata": {},
   "outputs": [],
   "source": [
    "# classification accuracy of algorithms\n",
    "# initialise models\n",
    "models = {\n",
    "   'Logistic Regression': LogisticRegression(),\n",
    "   'KNN': KNeighborsClassifier(),\n",
    "   'Decision Tree': DecisionTreeClassifier(),\n",
    "   'Naive Bayes': GaussianNB(),\n",
    "   'Support Vector Machine': SVC(probability=True, random_state=42),\n",
    "   'Gradient Boosting': GradientBoostingClassifier(),   \n",
    "   'RandomForest': RandomForestClassifier()\n",
    "}\n",
    "\n",
    "# evaluate the metrics\n",
    "metrics ={\n",
    "     'accuracy': accuracy_score,\n",
    "     'precision': precision_score,\n",
    "     'recall': recall_score,\n",
    "     'f1_score': f1_score,\n",
    "     'roc_auc_score': roc_auc_score,\n",
    " }\n",
    "\n"
   ]
  },
  {
   "cell_type": "code",
   "execution_count": null,
   "metadata": {},
   "outputs": [],
   "source": [
    "# Train and evaluate each model\n",
    "for model_name, model in models.items():\n",
    "    model.fit(X_train, y_train)\n",
    "    y_pred = model.predict(X_test)\n",
    "    y_prob = model.predict_proba(X_test)[:, 1]\n",
    "    results = {}\n",
    "    for metric_name, metric in metrics.items():\n",
    "        results[metric_name] = metric(y_test, y_pred)\n",
    "    print(f'{model_name}: {results}')\n",
    "    \n",
    "    # plot the ROC curve\n",
    "    if hasattr(model, 'predict_proba'):\n",
    "        fpr, tpr, thresholds = roc_curve(y_test, y_prob)\n",
    "        auc_score = roc_auc_score(y_test, y_prob)\n",
    "        plt.plot(fpr, tpr, label=f'{model_name} (AUC: {auc_score:.2f})')\n",
    "        plt.xlabel('False Positive Rate')\n",
    "        plt.ylabel('True Positive Rate')\n",
    "        plt.title('ROC Curve')\n",
    "        plt.legend()\n",
    "        plt.show()"
   ]
  },
  {
   "cell_type": "code",
   "execution_count": null,
   "metadata": {},
   "outputs": [],
   "source": [
    "# actionable insight of the models\n",
    "# Best performing model : logistic regression with precision(0.88),Recall(0.90),f1_score(0.89),roc_curve(0.91),roc-Score(0.87)\n",
    "\n",
    "#Balance  model performance KNN, SVM, DT, RF\n",
    "# conclusion\n",
    "# LogisticRegression is the bestperforming model with highest score\n",
    "# KNN had better precision\n",
    "\n",
    "# Recommendation\n",
    "# models considered  for deployment\n",
    "# future tuning of models\n",
    "# ensemble methods, enhancing the   performance of the  models feature Engineering\n",
    "# select the top 10 features based on the chi-squared\n",
    "import numpy as np\n",
    "import pandas as pd\n",
    "from sklearn.model_selection import train_test_split, StratifiedKFold,cross_val_predict\n",
    "from sklearn.feature_selection import SelectKBest\n",
    "from sklearn.feature_selection import chi2\n",
    "\n",
    "data = pd.read('heart.csv')\n",
    "X = data.drop('target',axis=1)\n",
    "y = data['target']\n",
    "\n",
    "selector = SelectKBest(chi2, k=10)\n",
    "X_new = selector.fit_transform(X,y)\n",
    "selected_features = X.columns[selector.get_support()]\n",
    "\n",
    "print ('selected features', selected_features)"
   ]
  }
 ],
 "metadata": {
  "kernelspec": {
   "display_name": "Python 3",
   "language": "python",
   "name": "python3"
  },
  "language_info": {
   "codemirror_mode": {
    "name": "ipython",
    "version": 3
   },
   "file_extension": ".py",
   "mimetype": "text/x-python",
   "name": "python",
   "nbconvert_exporter": "python",
   "pygments_lexer": "ipython3",
   "version": "3.11.7"
  }
 },
 "nbformat": 4,
 "nbformat_minor": 2
}
