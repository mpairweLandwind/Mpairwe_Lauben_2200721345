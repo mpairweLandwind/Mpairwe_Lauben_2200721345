{
 "cells": [
  {
   "cell_type": "code",
   "execution_count": null,
   "metadata": {},
   "outputs": [],
   "source": [
    "#Machine Learning\n",
    "#Types of machine Supervised Learning\n",
    "# Unsupervised Learning\n",
    "# Reinforcement Learning"
   ]
  },
  {
   "cell_type": "code",
   "execution_count": null,
   "metadata": {},
   "outputs": [],
   "source": [
    "# data processing\n",
    "#Data cleaning\n",
    "#steps\n",
    "#check for\n",
    "# Duplicates, wrong format, wrong data, empty cell, missing data\n",
    "# Age 23, 230,1.33.1.44,1.50, wrong format, 1/7/2024,2/7/2024,32045\n",
    "# Handling missing data, remove/delete , imputation, Mean/median/mode, etc"
   ]
  },
  {
   "cell_type": "code",
   "execution_count": null,
   "metadata": {},
   "outputs": [],
   "source": [
    "#Exploratory Data analysis\n",
    "#steps\n",
    "#Descriptive statistics\n",
    "#Measure of central Tendancy, mean, median, mode\n",
    "#Measure of spread:range, variance, standard deviation,iterquartile range,\n",
    "#skewness, kurtosis\n",
    "#Data visualization, histogram-distribution of a single variable,box plots-indentifying outliers\n",
    "#scatter plot-examining relationships between 2 variables.\n",
    "# Heatmaps- visualising correelation metrics "
   ]
  },
  {
   "cell_type": "code",
   "execution_count": null,
   "metadata": {},
   "outputs": [],
   "source": [
    "#Tools for data visualization\n",
    "#matplotlib, line, bar,scatter and histogram-distribution\n",
    "#seaborn, themes, color palettes, looks more attractive\n",
    "#plotly,Bokeh"
   ]
  },
  {
   "cell_type": "code",
   "execution_count": null,
   "metadata": {},
   "outputs": [],
   "source": [
    "#Feature Engineering\n",
    "#Selection, Filter like chi-square,ANova\n",
    "#Wrapper recursive features\n",
    "#Embeded , Lasso regression\n",
    "#// Feature scaling and Normalization\n",
    "#Normalization Rescale to a range, default(age, 20-28)\n",
    "# standard Deviation\n",
    "# Create new features , polynomials, interactiion\n"
   ]
  },
  {
   "cell_type": "code",
   "execution_count": null,
   "metadata": {},
   "outputs": [],
   "source": [
    "# data splitting\n",
    "# Training and evaluation of a model\n",
    "# Most common ratios, 20 testing-80training, 30,70\n",
    "# import sckit-learn helps to split the training/testing and evaluation"
   ]
  },
  {
   "cell_type": "code",
   "execution_count": null,
   "metadata": {},
   "outputs": [],
   "source": [
    "# random state used to shuffle data before splitting it into training and evaluation/testing.\n",
    "# cross validation is used  to test whether the training  data is   correct for the evaluation  of the training data./evaluates performance of data, mulple folds\n",
    "# Types are, train/test we can use K-Fold cross validation\n",
    "# Stratified k-fold cross validation, ensures that distribution of target variable, particularly used in the imbalanced dataset\n",
    "# cross validation helps in reducing variance in model performance estimates\n",
    "# provides a comprehensive evaluation ofof model performance"
   ]
  },
  {
   "cell_type": "code",
   "execution_count": null,
   "metadata": {},
   "outputs": [],
   "source": [
    "# Supervised Learning algorithms\n",
    "# Regression i.e linear, polynomial regression\n",
    "# classification algorithms can be logistic regression,K-Nearest Neighbors(KNN), support vector machines(SVM), decision trees, and random forest\n",
    "# model evaluation\n",
    "# Metrics ; accuracy, precision,recall,F1-score\n",
    "# confusion matrix\n",
    "# Auc and ROC, Area under the curve, Receiver operating characteristics curve"
   ]
  },
  {
   "cell_type": "code",
   "execution_count": null,
   "metadata": {},
   "outputs": [],
   "source": [
    "# summary supervised learning\n",
    "# Labelled daata, predict output for new inputs, common tasks i.e classification and regression\n",
    "\n",
    "# summary Unsupervised Learning\n",
    "# unlabelled, find hidden patterns or structures in data, common tasks like  clustering, dimensionality, association rule learning\n",
    "# Definitions\n",
    "# supervised Learning: learns from labelled data to predict outputs for new inputs\n",
    "# unsupervised Learning: learns from unlabelled data to identify paaatterns and structures within data"
   ]
  }
 ],
 "metadata": {
  "language_info": {
   "name": "python"
  }
 },
 "nbformat": 4,
 "nbformat_minor": 2
}
