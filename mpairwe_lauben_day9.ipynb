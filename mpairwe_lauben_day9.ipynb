{
 "cells": [
  {
   "cell_type": "code",
   "execution_count": null,
   "metadata": {},
   "outputs": [],
   "source": [
    "# data cleaning\n",
    "# preprocessing... focus on preprocessing. and analysing data.\n",
    "# 1. Empty cell. 2. wrong data, 3. wrong format, 4. Duplicates\n",
    "# count number of people who.... from the csv file\n",
    "\n",
    "# Explanatory data analysis\n",
    "\n",
    "# Distribution of number of siblings\n",
    "\n",
    "# print(df[\"number_siblings\"].value_counts()) \n",
    "\n",
    "#data visualization\n",
    "\n",
    "#assignment\n",
    "# for each distibution, use pie chart\n",
    "import pandas as pd\n",
    "import matplotlib.pyplot as plt\n",
    "\n",
    "\n",
    "df = pd.read_csv('niceguys.csv')\n",
    "\n",
    "# fill missing values\n",
    "df['living_allowance'] = df['living_allowance'].fillna(df['living_allowance'].mode())\n",
    "\n",
    "print(df.head(5))"
   ]
  },
  {
   "cell_type": "code",
   "execution_count": null,
   "metadata": {},
   "outputs": [],
   "source": [
    "# step 4: EDA exploratory data analysis\n",
    "# Distribution of students with age and whether they have gf/bf\n",
    "# Gender who have bf/gf\n",
    "# Do you eat age, gender, gf or bf\n",
    "# Living allowance and gf or bf\n",
    "# Those with gf or bf if they have siblings\n",
    "# Career and bf or gf\n",
    "# Correlation heatMap,correlation matrix and ploting heatmap\n",
    "# Decision making, insight of the data, data analysis conclusion\n",
    "# 1; Age and gf or bf\n",
    "# 2: and gf or bf\n"
   ]
  },
  {
   "cell_type": "code",
   "execution_count": null,
   "metadata": {},
   "outputs": [],
   "source": [
    "# method to return the number of rows that are empty\n",
    "print(\"Missing values in each column:\\n\", df.isna().sum())"
   ]
  },
  {
   "cell_type": "code",
   "execution_count": null,
   "metadata": {},
   "outputs": [],
   "source": [
    "\n",
    "# Remove commas and convert to numeric\n",
    "df['living_allowance'] = df['living_allowance'].str.replace(',', '').astype(float)\n",
    "\n",
    "# inorder not to assume numbers , or inorder to get actual results, we can use \n",
    "# mean(), median(), or mode() of a column\n",
    "median_value = df[\"living_allowance\"].median()\n",
    "print(median_value)\n",
    "\n",
    "# df[\"living_allowance\"].fillna(x,inplace = True)\n",
    "df.fillna({\"living_allowance\": median_value}, inplace=True)\n",
    "print(df)"
   ]
  },
  {
   "cell_type": "code",
   "execution_count": null,
   "metadata": {},
   "outputs": [],
   "source": [
    "# Mode\n",
    "mode_value = df[\"living_allowance\"].mode()\n",
    "print(mode_value)\n",
    "\n",
    "# df[\"living_allowance\"].fillna(x,inplace = True)\n",
    "df.fillna({\"living_allowance\": mode_value}, inplace=True)\n",
    "print(df)"
   ]
  },
  {
   "cell_type": "code",
   "execution_count": null,
   "metadata": {},
   "outputs": [],
   "source": [
    "# Mean\n",
    "mean_value = df[\"living_allowance\"].mean()\n",
    "print(mean_value)\n",
    "\n",
    "# df[\"living_allowance\"].fillna(x,inplace = True)\n",
    "df.fillna({\"living_allowance\": mean_value}, inplace=True)\n",
    "print(df)\n",
    "\n"
   ]
  },
  {
   "cell_type": "code",
   "execution_count": null,
   "metadata": {},
   "outputs": [],
   "source": [
    "\n",
    "print(df.info())\n",
    "print(df['number_siblings'].value_counts())\n"
   ]
  },
  {
   "cell_type": "code",
   "execution_count": null,
   "metadata": {},
   "outputs": [],
   "source": [
    "\n",
    "# Distribution of students with age and whether they have gf/bf\n",
    "# Gender who have bf/gf\n",
    "# Do you eat age, gender, gf or bf\n",
    "# Living allowance and gf or bf\n",
    "# Those with gf or bf if they have siblings\n",
    "# Career and bf or gf\n",
    "\n",
    "print(df[\"living_allowance\"].value_counts())\n"
   ]
  },
  {
   "cell_type": "code",
   "execution_count": null,
   "metadata": {},
   "outputs": [],
   "source": [
    "\n",
    "# # Distribution of age and gender of students who have a gf/bf\n",
    "# plt.figure(figsize=(9, 6))\n",
    "# sns.catplot(df, x='age', hue='gender', col='have_bf_gf', kind='count', palette='viridis')\n",
    "# plt.title('Distribution of Age and Gender of Students Who Have a GF/BF')\n",
    "# plt.xlabel('Age')\n",
    "# plt.ylabel('Count')\n",
    "# plt.show()\n"
   ]
  },
  {
   "cell_type": "code",
   "execution_count": null,
   "metadata": {},
   "outputs": [],
   "source": [
    "\n",
    "# # Distribution of living allowance for students who have a gf/bf\n",
    "# plt.figure(figsize=(12, 6))\n",
    "# sns.boxplot(data=df, x='have_bf_gf', y='living_allowance', palette='viridis')\n",
    "# plt.title('Living Allowance Distribution for Students Who Have a GF/BF')\n",
    "# plt.xlabel('Have GF/BF')\n",
    "# plt.ylabel('Living Allowance')\n",
    "# plt.show()\n"
   ]
  },
  {
   "cell_type": "code",
   "execution_count": null,
   "metadata": {},
   "outputs": [],
   "source": [
    "\n",
    "# # Gender distribution of students who have a gf/bf\n",
    "# plt.figure(figsize=(12, 6))\n",
    "# sns.countplot(data=df, x='gender', hue='have_bf_gf', palette='viridis')\n",
    "# plt.title('Gender Distribution of Students Who Have a GF/BF')\n",
    "# plt.xlabel('Gender')\n",
    "# plt.ylabel('Count')\n",
    "# plt.show()"
   ]
  },
  {
   "cell_type": "code",
   "execution_count": null,
   "metadata": {},
   "outputs": [],
   "source": [
    "print(df[\"do_you_have_aboyfriend/girlfriend\"].value_counts())"
   ]
  },
  {
   "cell_type": "code",
   "execution_count": null,
   "metadata": {},
   "outputs": [],
   "source": [
    "# siblings\n",
    "siblings_counts = df['number_siblings'].value_counts()\n",
    "\n",
    "\n",
    "\n",
    "# Create a pie chart\n",
    "# plt.figure(figsize=(9, 9))\n",
    "plt.pie(siblings_counts, labels=siblings_counts.index, autopct='%1.1f%%', startangle=150)\n",
    "plt.title('Distribution of Number of Siblings')\n",
    "plt.axis('equal')  \n",
    "plt.show()\n"
   ]
  },
  {
   "cell_type": "code",
   "execution_count": null,
   "metadata": {},
   "outputs": [],
   "source": [
    "# have_bf_gf\n",
    "have_bf_gf_counts = df['do_you_have_aboyfriend/girlfriend'].value_counts()\n",
    "plt.pie(have_bf_gf_counts, labels=have_bf_gf_counts.index, autopct='%1.1f%%', startangle=140)\n",
    "plt.title('Distribution of have_bf_gf')\n",
    "plt.axis('equal')  \n",
    "plt.show()\n"
   ]
  },
  {
   "cell_type": "code",
   "execution_count": null,
   "metadata": {},
   "outputs": [],
   "source": [
    "# age\n",
    "age_counts = df['age'].value_counts()\n",
    "plt.figure(figsize=(9, 9))\n",
    "plt.pie(age_counts, labels=age_counts.index, autopct='%1.2f%%', startangle=150)\n",
    "plt.title('Distribution of age')\n",
    "plt.axis('equal')  \n",
    "plt.show()"
   ]
  },
  {
   "cell_type": "code",
   "execution_count": null,
   "metadata": {},
   "outputs": [],
   "source": [
    "print(df.info())\n",
    "print(df[\"do_you_have_aboyfriend/girlfriend\"].value_counts())"
   ]
  },
  {
   "cell_type": "code",
   "execution_count": null,
   "metadata": {},
   "outputs": [],
   "source": [
    "import pandas as pd\n",
    "import matplotlib.pyplot as plt\n",
    "\n",
    "\n",
    "df = pd.read_csv('crop.csv')\n",
    "\n",
    "# print few rows\n",
    "print(df.head())\n",
    "\n",
    "# check for null / missing values\n",
    "\n",
    "print(df.isnull().sum())\n"
   ]
  },
  {
   "cell_type": "code",
   "execution_count": null,
   "metadata": {},
   "outputs": [],
   "source": [
    "# Exploratory Data Analysis (EDA)\n",
    "# summary statistics\n",
    "print(df.describe())"
   ]
  },
  {
   "cell_type": "code",
   "execution_count": null,
   "metadata": {},
   "outputs": [],
   "source": [
    "# check for null / missing values using heatmap\n",
    "import seaborn as sns \n",
    "\n",
    "sns.heatmap(df.isnull(), yticklabels=False, cbar=False, cmap='viridis')"
   ]
  },
  {
   "cell_type": "code",
   "execution_count": null,
   "metadata": {},
   "outputs": [],
   "source": [
    "%pip install seaborn"
   ]
  },
  {
   "cell_type": "code",
   "execution_count": null,
   "metadata": {},
   "outputs": [],
   "source": [
    "# Method 2\n",
    "sns.heatmap(df.isnull(),cmap='coolwarm')\n",
    "plt.show()"
   ]
  },
  {
   "cell_type": "code",
   "execution_count": null,
   "metadata": {},
   "outputs": [],
   "source": [
    "# Distribution of temperature and ph\n",
    "print(df['temperature'].value_counts())"
   ]
  },
  {
   "cell_type": "code",
   "execution_count": null,
   "metadata": {},
   "outputs": [],
   "source": [
    "# Method \n",
    "sns.histplot(df['temperature'], color='green', bins=30,  kde=True)\n",
    "plt.title('Temperature Distribution')\n",
    "plt.show()"
   ]
  },
  {
   "cell_type": "code",
   "execution_count": null,
   "metadata": {},
   "outputs": [],
   "source": [
    "# Method \n",
    "sns.histplot(df['ph'], color='blue', bins=30,  kde=True)\n",
    "plt.title('ph Distribution')\n",
    "plt.show()"
   ]
  },
  {
   "cell_type": "code",
   "execution_count": null,
   "metadata": {},
   "outputs": [],
   "source": [
    "# Check if the dataset is balanced or not\n",
    "sns.countplot(y='label', data=df, palette='plasma_r')\n",
    "plt.title('ph Distribution')\n",
    "plt.show()"
   ]
  },
  {
   "cell_type": "code",
   "execution_count": null,
   "metadata": {},
   "outputs": [],
   "source": [
    "# phosphorus level\n",
    "sns.boxplot(y='label', x='ph', data=df, palette='plasma_r')\n",
    "plt.title('Phosporus Level')\n",
    "plt.show()\n"
   ]
  },
  {
   "cell_type": "code",
   "execution_count": null,
   "metadata": {},
   "outputs": [],
   "source": [
    "# phosphorus level basing on rainfall\n",
    "sns.boxplot(y='label', x='P', data=df[df['rainfall']>150 ])\n",
    "plt.title('Phosporus Level and rainfall')\n",
    "plt.show()"
   ]
  },
  {
   "cell_type": "code",
   "execution_count": null,
   "metadata": {},
   "outputs": [],
   "source": [
    "# Visualisation Correlation \n",
    "\n",
    "c=df.label.astype('category')\n",
    "targets = dict(enumerate(c.cat.categories))\n",
    "df['target'] = c.cat.codes\n",
    "\n",
    "y = df.target \n",
    "X = df[['N','P','K','temperature','humidity','ph', 'rainfall']]\n",
    " \n",
    " "
   ]
  },
  {
   "cell_type": "code",
   "execution_count": null,
   "metadata": {},
   "outputs": [],
   "source": [
    "# Create correlation visualization\n",
    "\n",
    "sns.heatmap(X.corr())\n",
    "plt.title('Correlation')\n",
    "plt.show()"
   ]
  },
  {
   "cell_type": "code",
   "execution_count": null,
   "metadata": {},
   "outputs": [],
   "source": [
    "\n",
    "\n"
   ]
  },
  {
   "cell_type": "code",
   "execution_count": null,
   "metadata": {},
   "outputs": [],
   "source": []
  },
  {
   "cell_type": "code",
   "execution_count": null,
   "metadata": {},
   "outputs": [],
   "source": []
  },
  {
   "cell_type": "code",
   "execution_count": null,
   "metadata": {},
   "outputs": [],
   "source": []
  },
  {
   "cell_type": "code",
   "execution_count": null,
   "metadata": {},
   "outputs": [],
   "source": [
    "\n",
    "\n"
   ]
  },
  {
   "cell_type": "code",
   "execution_count": null,
   "metadata": {},
   "outputs": [],
   "source": []
  },
  {
   "cell_type": "code",
   "execution_count": null,
   "metadata": {},
   "outputs": [],
   "source": [
    "\n",
    "\n",
    "\n",
    "\n",
    "    \n"
   ]
  }
 ],
 "metadata": {
  "kernelspec": {
   "display_name": "Python 3",
   "language": "python",
   "name": "python3"
  },
  "language_info": {
   "codemirror_mode": {
    "name": "ipython",
    "version": 3
   },
   "file_extension": ".py",
   "mimetype": "text/x-python",
   "name": "python",
   "nbconvert_exporter": "python",
   "pygments_lexer": "ipython3",
   "version": "3.9.18"
  }
 },
 "nbformat": 4,
 "nbformat_minor": 2
}
